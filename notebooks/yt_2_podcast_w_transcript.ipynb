{
  "cells": [
    {
      "cell_type": "markdown",
      "metadata": {
        "id": "nQLgAprlFMOh"
      },
      "source": [
        "# YouTube 自動逐字稿產生器 (避免重複 + 儲存音訊至 Google Drive)\n"
      ]
    },
    {
      "cell_type": "markdown",
      "metadata": {
        "id": "vl-KAvVhFMOl"
      },
      "source": [
        "## 功能：\n",
        "\n",
        "YouTube 自動逐字稿產生器, 使用 `yt-dlp` 下載音訊, 並使用 `Whisper` 模型產生逐字稿. 此程式會自動略過已處理的影片, 並將結果儲存至 Google Drive.\n",
        "\n",
        "- 上傳 `_youtube_links.txt`, 每行一個連結\n",
        "- 自動略過已處理影片 (由 `processed_links.txt` 記錄, 並保存至 Google Drive)\n",
        "- 使用 `yt-dlp` 下載音訊 (保留至 Google Drive)\n",
        "- 使用 `Whisper` 模型產生逐字稿\n",
        "- 逐字稿 (包括 `srt` 和 `txt`) 輸出至 Google Drive\n"
      ]
    },
    {
      "cell_type": "markdown",
      "metadata": {
        "id": "ilTYJzHXFMOl"
      },
      "source": [
        "## Step 1 - 準備工作\n"
      ]
    },
    {
      "cell_type": "markdown",
      "metadata": {
        "id": "aj_Pa7iYFMOm"
      },
      "source": [
        "### 1.1. Mount Google Drive\n"
      ]
    },
    {
      "cell_type": "code",
      "execution_count": null,
      "metadata": {
        "id": "Xj9ith1YFMOm"
      },
      "outputs": [],
      "source": [
        "from google.colab import drive\n",
        "drive.mount('/content/drive')\n"
      ]
    },
    {
      "cell_type": "markdown",
      "metadata": {
        "id": "Knbev8QYFMOn"
      },
      "source": [
        "### 1.2. 上傳 `_youtube_links.txt` 檔案\n",
        "\n",
        "請確保檔案內容格式如下 (每行一個連結, 無需雙引號):\n",
        "\n",
        "```\n",
        "https://www.youtube.com/watch?v=VIDEO_ID\n",
        "https://www.youtube.com/watch?v=ANOTHER_VIDEO_ID\n",
        "```\n",
        "\n",
        "也可用拖曳上傳 `_youtube_links.txt` 取代下面 cell\n"
      ]
    },
    {
      "cell_type": "code",
      "execution_count": null,
      "metadata": {
        "id": "S66CIyWVFMOn"
      },
      "outputs": [],
      "source": [
        "# 上傳連結檔案\n",
        "from google.colab import files\n",
        "uploaded = files.upload()\n"
      ]
    },
    {
      "cell_type": "markdown",
      "metadata": {
        "id": "FutQR-VvFMOo"
      },
      "source": [
        "### 1.3. 設定全局變量\n"
      ]
    },
    {
      "cell_type": "code",
      "execution_count": null,
      "metadata": {
        "id": "cFdX0_LHFMOo"
      },
      "outputs": [],
      "source": [
        "INPUT_FILE_NAME = \"_youtube_links.txt\"\n",
        "AUDIO_DIR = \"_audio_files\"\n",
        "\n",
        "# yt-dlp 參數\n",
        "AUDIO_FORMAT = \"m4a\"\n",
        "TITLE_FORMAT = \"%(title)s [%(id)s]\"\n",
        "\n",
        "# On My Google Drive\n",
        "GD_PROCESSED_TITLES_FILE_PATH = \"/content/drive/MyDrive/_字幕/youtube/processed_titles.txt\"\n",
        "GD_PROCESSED_IDS_FILE_PATH = \"/content/drive/MyDrive/_字幕/youtube/processed_ids.txt\"\n",
        "GD_AUDIO_DIR = \"/content/drive/MyDrive/_字幕/youtube/_audios\"\n",
        "GD_OUTPUT_DIR = \"/content/drive/MyDrive/_字幕/youtube/_批量處理\"\n",
        "\n",
        "# Whisper 參數\n",
        "WHISPER_LANGUAGE = \"Chinese\"  # Whisper 的輸出預設為簡體中文. 使用 \"AUTO\" 可自動偵測語言\n",
        "WHISPER_MODEL = \"large\"  # base, small, medium, large\n",
        "\n",
        "# 任務結束音樂\n",
        "MUSIC_SRC = \"YT\"\n",
        "YT_MUSICS = [\n",
        "    \"https://www.youtube.com/watch?v=pd3eV-SG23E\",  # Mayday五月天 [ 後來的我們 Here, After, Us ] Official Music Video\n",
        "    \"https://www.youtube.com/watch?v=GSx8Olkop50\",  # 孫燕姿 Yanzi Sun - 我懷念的 What I Miss 4K MV (Official 4K UltraHD Video)\n",
        "    \"https://www.youtube.com/watch?v=a8KMIwG4usA\",  # 孫燕姿 Sun Yan-Zi - 風箏 Kite (official 官方完整版MV)\n",
        "    \"https://www.youtube.com/watch?v=vFxjK0WTdTQ\",  # 費玉清-晚安曲\n",
        "    \"https://www.youtube.com/watch?v=iBB6gkEwEhk\",  # 女神卡卡 Lady Gaga - 牽我的手 Hold My Hand（捍衛戰士：獨行俠 電影主題曲）（中字 Official Music Video）\n",
        "]\n",
        "YT_MUSIC_FILE_PATH = \"_finished.mp3\"\n"
      ]
    },
    {
      "cell_type": "markdown",
      "metadata": {
        "id": "dBlhEBRZFMOo"
      },
      "source": [
        "### 1.4. 安裝必要的套件"
      ]
    },
    {
      "cell_type": "code",
      "execution_count": null,
      "metadata": {
        "id": "lZTZ1wzhFMOp"
      },
      "outputs": [],
      "source": [
        "# 安裝必要套件\n",
        "!pip install -q yt-dlp\n",
        "!pip install -q openai-whisper\n"
      ]
    },
    {
      "cell_type": "markdown",
      "metadata": {
        "id": "0D523OPdFMOp"
      },
      "source": [
        "## Step 2 - 獲取新影片的連結\n"
      ]
    },
    {
      "cell_type": "markdown",
      "metadata": {
        "id": "0_t2HqEdFMOp"
      },
      "source": [
        "### 2.1. Utils\n"
      ]
    },
    {
      "cell_type": "code",
      "execution_count": null,
      "metadata": {
        "id": "oe1znLbKFMOp"
      },
      "outputs": [],
      "source": [
        "from pathlib import Path\n",
        "\n",
        "\n",
        "def _get_input_file_path(file_path: str) -> Path:\n",
        "    \"\"\"取得輸入檔案的路徑\"\"\"\n",
        "    input_path = Path(file_path)\n",
        "    assert input_path.exists(), f\"請上傳 {file_path} 檔案\"\n",
        "    return input_path\n",
        "\n",
        "# 建立 processed_titles.txt\n",
        "def _get_processed_titles_file_path(file_path: str) -> Path:\n",
        "    \"\"\"取得已處理檔案的路徑\"\"\"\n",
        "    processed_titles_path = Path(file_path)\n",
        "    if not processed_titles_path.exists():\n",
        "        processed_titles_path.write_text(\"\")\n",
        "    return processed_titles_path\n"
      ]
    },
    {
      "cell_type": "markdown",
      "metadata": {
        "id": "rAmkLDKwFMOq"
      },
      "source": [
        "### 2.2. yt_dlp_helpers"
      ]
    },
    {
      "cell_type": "code",
      "execution_count": null,
      "metadata": {
        "id": "9LvAfbehFMOq"
      },
      "outputs": [],
      "source": [
        "import subprocess\n",
        "\n",
        "\n",
        "# 用 yt-dlp 取得所有影片的 titles\n",
        "def _get_youtube_video_titles(urls: list[str]) -> dict[str, str]:\n",
        "    \"\"\"取得所有影片的 title\"\"\"\n",
        "    url_2_title = {}\n",
        "    for url in urls:\n",
        "        try:\n",
        "            title = subprocess.check_output([\"yt-dlp\", \"--get-filename\", \"-o\", TITLE_FORMAT, url], text=True).strip()\n",
        "            url_2_title[url] = title\n",
        "        except subprocess.CalledProcessError as e:\n",
        "            print(f\"❌ 無法取得標題 - {url}: {e}\")\n",
        "    return url_2_title\n"
      ]
    },
    {
      "cell_type": "markdown",
      "metadata": {
        "id": "5-3ogesrFMOq"
      },
      "source": [
        "### 2.3. 抓影片 title, 並與 `processed_titles.txt` 比對避免重複, 最後返回新影片的連結"
      ]
    },
    {
      "cell_type": "code",
      "execution_count": null,
      "metadata": {
        "id": "MZCvg1PJFMOq"
      },
      "outputs": [],
      "source": [
        "# 根據 yt-dlp 抓影片 titles, 並與 processed_titles.txt 比對避免重複\n",
        "input_path = _get_input_file_path(INPUT_FILE_NAME)\n",
        "processed_titles_path = _get_processed_titles_file_path(GD_PROCESSED_TITLES_FILE_PATH)\n",
        "\n",
        "# 讀取 processed titles\n",
        "processed_titles = set(\n",
        "    line.strip() for line in processed_titles_path.read_text().splitlines() if line.strip()\n",
        ")\n",
        "\n",
        "# 讀取所有 input 連結\n",
        "with open(input_path, \"r\") as f:\n",
        "    all_input_links = [line.strip() for line in f if line.strip()]\n",
        "\n",
        "# 用 yt-dlp 取得所有影片的 titles\n",
        "url_2_title = _get_youtube_video_titles(all_input_links)\n",
        "\n",
        "# 過濾掉已處理過的 titles\n",
        "filtered_links = [url for url, title in url_2_title.items() if title not in processed_titles]\n",
        "\n",
        "print(f\"共有 {len(filtered_links)} 個新影片：\")\n",
        "for link in filtered_links:\n",
        "    print(\"  \", link)\n",
        "\n",
        "# 寫入新的 yt-dlp 處理清單\n",
        "with open(\"_new_links.txt\", \"w\") as f:\n",
        "    f.write(\"\\n\".join(filtered_links))\n"
      ]
    },
    {
      "cell_type": "markdown",
      "metadata": {
        "id": "GtbNyG5sFMOq"
      },
      "source": [
        "## Step 3 - 下載音訊檔並儲存副本至 Google Drive"
      ]
    },
    {
      "cell_type": "code",
      "execution_count": null,
      "metadata": {
        "id": "xHPiK4sbFMOq"
      },
      "outputs": [],
      "source": [
        "# 下載音訊檔並儲存副本至 Google Drive\n",
        "!mkdir -p \"{AUDIO_DIR}\"\n",
        "!mkdir -p \"{GD_AUDIO_DIR}\"\n",
        "\n",
        "# 使用變量, 若沒有特殊自符, 則可以不需要加上引號\n",
        "!yt-dlp --extract-audio --audio-format {AUDIO_FORMAT} -o \"{AUDIO_DIR}/{TITLE_FORMAT}.%(ext)s\" -a _new_links.txt\n",
        "\n",
        "# 複製音訊檔至 Google Drive\n",
        "!cp \"{AUDIO_DIR}\"/*.{AUDIO_FORMAT} \"{GD_AUDIO_DIR}\" || echo \"無新檔案可複製\"\n"
      ]
    },
    {
      "cell_type": "markdown",
      "metadata": {
        "id": "Mx4IUbohFMOq"
      },
      "source": [
        "## Step 4 - 使用 Whisper 模型產生逐字稿, 並儲存至 Google Drive 且同步更新 processed_links.txt"
      ]
    },
    {
      "cell_type": "markdown",
      "metadata": {
        "id": "NQgsYVWKFMOr"
      },
      "source": [
        "### 4.1. Helpers"
      ]
    },
    {
      "cell_type": "code",
      "execution_count": null,
      "metadata": {
        "id": "QZ45T5YGFMOr"
      },
      "outputs": [],
      "source": [
        "def _get_whisper_command(file_path: str, model: str, output_dir: str, language: str) -> list[str]:\n",
        "    \"\"\"取得 Whisper 的轉錄指令\"\"\"\n",
        "    whisper_command = [\n",
        "        \"whisper\", str(file_path),\n",
        "        \"--model\", model,\n",
        "        \"--output_dir\", output_dir,\n",
        "        # \"--output_format\", \"txt\"\n",
        "    ]\n",
        "    if language != \"AUTO\":\n",
        "        whisper_command += [\"--language\", language]\n",
        "    return whisper_command\n"
      ]
    },
    {
      "cell_type": "markdown",
      "metadata": {
        "id": "8mGgHzF8FMOr"
      },
      "source": [
        "### 4.2. 產生逐字稿"
      ]
    },
    {
      "cell_type": "code",
      "execution_count": null,
      "metadata": {
        "id": "kKuvT3d3FMOr"
      },
      "outputs": [],
      "source": [
        "# 產生逐字稿\n",
        "import subprocess\n",
        "\n",
        "from pathlib import Path\n",
        "\n",
        "\n",
        "output_dir = GD_OUTPUT_DIR\n",
        "Path(output_dir).mkdir(parents=True, exist_ok=True)\n",
        "\n",
        "processed_titles_path = _get_processed_titles_file_path(GD_PROCESSED_TITLES_FILE_PATH)\n",
        "processed_titles = set(processed_titles_path.read_text().splitlines())\n",
        "\n",
        "with open(processed_titles_path, \"a\") as f:\n",
        "    for audio_file in Path(\"_audio_files\").glob(f\"*.{AUDIO_FORMAT}\"):\n",
        "        # 先前的 _audio_files 已經去重了, 這裡其實可以直接信任 audio_files 的結果,\n",
        "        # 而不需要再去重一次的邏輯.\n",
        "        title = audio_file.stem\n",
        "        if title in processed_titles:\n",
        "            print(f\"⏭️ 略過已處理：{title}\")\n",
        "            continue\n",
        "\n",
        "        print(f\"--- START: {audio_file.name} ---\")\n",
        "        whisper_command = _get_whisper_command(\n",
        "            str(audio_file), WHISPER_MODEL, output_dir, WHISPER_LANGUAGE\n",
        "        )\n",
        "        subprocess.run(whisper_command)\n",
        "        print(f\"--- END: {audio_file.name} ---\")\n",
        "\n",
        "        f.write(title + \"\\n\")\n",
        "        f.flush()\n",
        "        print(f\"✅ 已處理：{title}\")\n",
        ""
      ]
    },
    {
      "cell_type": "markdown",
      "metadata": {
        "id": "Lr--F5ZsFMOr"
      },
      "source": [
        "## Step 5 - 完成後, 撥放音樂提醒\n"
      ]
    },
    {
      "cell_type": "markdown",
      "metadata": {
        "id": "fIPV9e_kFMOr"
      },
      "source": [
        "### 5.1 Helpers"
      ]
    },
    {
      "cell_type": "code",
      "execution_count": null,
      "metadata": {
        "id": "8XV5v6jAFMOr"
      },
      "outputs": [],
      "source": [
        "import base64\n",
        "\n",
        "from IPython.display import Audio, display, HTML\n",
        "\n",
        "\n",
        "def play_finish_music(volume=0.15):\n",
        "    # 顯示提示\n",
        "    display(HTML(\"<h3 style='color:green;'>✅ 任務完成，自動播放結束提示音：</h3>\"))\n",
        "\n",
        "    music_src = \"https://www.soundhelix.com/examples/mp3/SoundHelix-Song-1.mp3\"  # 預設使用音效\n",
        "    if MUSIC_SRC == \"YT\":\n",
        "        # 讀取音檔並轉為 base64\n",
        "        with open(YT_MUSIC_FILE_PATH, \"rb\") as f:\n",
        "            audio_b64 = base64.b64encode(f.read()).decode()\n",
        "        music_src = f\"data:audio/mp3;base64,{audio_b64}\"\n",
        "\n",
        "    # 用 HTML 嵌入 base64 音訊 + JS 控制音量\n",
        "    display(HTML(f'''\n",
        "        <audio id=\"done-audio\" autoplay controls>\n",
        "            <source src=\"{music_src}\" type=\"audio/mp3\">\n",
        "            Your browser does not support the audio element.\n",
        "        </audio>\n",
        "        <script>\n",
        "            const audio = document.getElementById(\"done-audio\");\n",
        "            audio.volume = {volume};\n",
        "        </script>\n",
        "    '''))\n",
        ""
      ]
    },
    {
      "cell_type": "markdown",
      "metadata": {
        "id": "BK2Z5TayFMOr"
      },
      "source": [
        "### 5.2. 從 Youtube 隨機下載指定音樂"
      ]
    },
    {
      "cell_type": "code",
      "execution_count": null,
      "metadata": {
        "id": "pgZmv7BsFMOs"
      },
      "outputs": [],
      "source": [
        "import random\n",
        "\n",
        "\n",
        "if MUSIC_SRC == \"YT\":\n",
        "    chosen_music = random.choice(YT_MUSICS)\n",
        "    print(f\"🎵 正在下載隨機選取的音樂：{chosen_music}\")\n",
        "    !yt-dlp -x --audio-format mp3 -o {YT_MUSIC_FILE_PATH} {chosen_music}\n",
        ""
      ]
    },
    {
      "cell_type": "markdown",
      "metadata": {
        "id": "dy07udKfFMOs"
      },
      "source": [
        "### 5.3. 撥放音樂與彈窗提醒"
      ]
    },
    {
      "cell_type": "code",
      "execution_count": null,
      "metadata": {
        "id": "psvWaOHCFMOs"
      },
      "outputs": [],
      "source": [
        "play_finish_music(0.05)\n"
      ]
    },
    {
      "cell_type": "markdown",
      "source": [
        "### 5.4. 音樂結束後, 彈窗提醒"
      ],
      "metadata": {
        "id": "rFZU1jHfWtPr"
      }
    },
    {
      "cell_type": "code",
      "source": [
        "from IPython.display import Javascript\n",
        "\n",
        "\n",
        "display(Javascript(\"alert('✅ 任務完成，請手動關閉 session 以釋放資源!!!');\"))\n"
      ],
      "metadata": {
        "id": "MjJ2Xc-sW25o"
      },
      "execution_count": null,
      "outputs": []
    },
    {
      "cell_type": "markdown",
      "metadata": {
        "id": "YfP2u6tDFMOs"
      },
      "source": [
        "### 5.5. Kill 當前 session"
      ]
    },
    {
      "cell_type": "code",
      "execution_count": null,
      "metadata": {
        "id": "TtfDb2NDFMOs"
      },
      "outputs": [],
      "source": [
        "# import os\n",
        "\n",
        "\n",
        "# os.kill(os.getpid(), 9)  # 無法阻止 Colab 「自動重連」 的行為，這是由 Google 的伺服器控制的，程式無法關閉這項機制\n"
      ]
    }
  ],
  "metadata": {
    "kernelspec": {
      "display_name": "Python 3",
      "name": "python3"
    },
    "language_info": {
      "name": "python",
      "version": "3.10.11"
    },
    "colab": {
      "provenance": [],
      "gpuType": "T4"
    },
    "accelerator": "GPU"
  },
  "nbformat": 4,
  "nbformat_minor": 0
}